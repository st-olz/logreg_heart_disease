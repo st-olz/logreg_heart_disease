{
 "cells": [
  {
   "cell_type": "markdown",
   "id": "f9b00343",
   "metadata": {},
   "source": [
    "# Classifying Heart Disease\n",
    "\n",
    "The purpose of this project is to predict heart disease with a logistic regression model. The \"Heart Disease Data Set\" we will use is from the UCI Machine Learning Repository (https://archive.ics.uci.edu/ml/datasets/Heart+Disease). This data set comes from the famous Cleveland Clinic Foundation, which recorded information on various patient characteristics, including age and chest pain, to try to classify the presence of heart disease in an individual.\n",
    "\n",
    "There are 14 attributes we will consider in our model:\n",
    "- age: age in years \n",
    "- sex: sex (1 = male; 0 = female) \n",
    "- cp : chest pain type (1: typical angina, 2: atypical angina, 3: non-anginal pain, 4: asymptomatic) \n",
    "- trestbps: resting blood pressure (in mm Hg on admission to the hospital) \n",
    "- chol: serum cholestoral in mg/dl \n",
    "- fbs: (fasting blood sugar > 120 mg/dl) (1 = true; 0 = false) \n",
    "- restecg: resting electrocardiographic results (0: normal, 1: having ST-T wave abnormality (T wave inversions and/or ST elevation or depression of > 0.05 mV, 2: showing probable or definite left ventricular hypertrophy by Estes' criteria) \n",
    "- thalach: maximum heart rate achieved \n",
    "- exang: exercise induced angina (1 = yes; 0 = no) \n",
    "- oldpeak = ST depression induced by exercise relative to rest \n",
    "- slope: the slope of the peak exercise ST segment (1: upsloping, 2: flat, 3: downsloping)\n",
    "- ca: number of major vessels (0-3) colored by flourosopy \n",
    "- thal: a blood disorder called thalassemia (3 = normal; 6 = fixed defect; 7 = reversable defect)\n",
    "- num: diagnosis of heart disease, angiographic disease status (0:< 50% diameter narrowing, 1-4: > 50% diameter narrowing)"
   ]
  },
  {
   "cell_type": "code",
   "execution_count": 1,
   "id": "67fe70ec",
   "metadata": {},
   "outputs": [],
   "source": [
    "import numpy as np\n",
    "import pandas as pd\n",
    "import matplotlib.pyplot as plt\n",
    "import seaborn as sns\n",
    "from sklearn.model_selection import train_test_split\n",
    "from sklearn.linear_model import LogisticRegression\n",
    "from sklearn.metrics import confusion_matrix"
   ]
  },
  {
   "cell_type": "markdown",
   "id": "3dc43be1",
   "metadata": {},
   "source": [
    "## Explore the data"
   ]
  },
  {
   "cell_type": "code",
   "execution_count": 2,
   "id": "8a05ed10",
   "metadata": {},
   "outputs": [
    {
     "data": {
      "text/html": [
       "<div>\n",
       "<style scoped>\n",
       "    .dataframe tbody tr th:only-of-type {\n",
       "        vertical-align: middle;\n",
       "    }\n",
       "\n",
       "    .dataframe tbody tr th {\n",
       "        vertical-align: top;\n",
       "    }\n",
       "\n",
       "    .dataframe thead th {\n",
       "        text-align: right;\n",
       "    }\n",
       "</style>\n",
       "<table border=\"1\" class=\"dataframe\">\n",
       "  <thead>\n",
       "    <tr style=\"text-align: right;\">\n",
       "      <th></th>\n",
       "      <th>age</th>\n",
       "      <th>sex</th>\n",
       "      <th>cp</th>\n",
       "      <th>trestbps</th>\n",
       "      <th>chol</th>\n",
       "      <th>fbs</th>\n",
       "      <th>restecg</th>\n",
       "      <th>thalach</th>\n",
       "      <th>exang</th>\n",
       "      <th>oldpeak</th>\n",
       "      <th>slope</th>\n",
       "      <th>ca</th>\n",
       "      <th>thal</th>\n",
       "      <th>num</th>\n",
       "    </tr>\n",
       "  </thead>\n",
       "  <tbody>\n",
       "    <tr>\n",
       "      <th>0</th>\n",
       "      <td>63.0</td>\n",
       "      <td>1.0</td>\n",
       "      <td>1.0</td>\n",
       "      <td>145.0</td>\n",
       "      <td>233.0</td>\n",
       "      <td>1.0</td>\n",
       "      <td>2.0</td>\n",
       "      <td>150.0</td>\n",
       "      <td>0.0</td>\n",
       "      <td>2.3</td>\n",
       "      <td>3.0</td>\n",
       "      <td>0.0</td>\n",
       "      <td>6.0</td>\n",
       "      <td>0</td>\n",
       "    </tr>\n",
       "    <tr>\n",
       "      <th>1</th>\n",
       "      <td>67.0</td>\n",
       "      <td>1.0</td>\n",
       "      <td>4.0</td>\n",
       "      <td>160.0</td>\n",
       "      <td>286.0</td>\n",
       "      <td>0.0</td>\n",
       "      <td>2.0</td>\n",
       "      <td>108.0</td>\n",
       "      <td>1.0</td>\n",
       "      <td>1.5</td>\n",
       "      <td>2.0</td>\n",
       "      <td>3.0</td>\n",
       "      <td>3.0</td>\n",
       "      <td>2</td>\n",
       "    </tr>\n",
       "    <tr>\n",
       "      <th>2</th>\n",
       "      <td>67.0</td>\n",
       "      <td>1.0</td>\n",
       "      <td>4.0</td>\n",
       "      <td>120.0</td>\n",
       "      <td>229.0</td>\n",
       "      <td>0.0</td>\n",
       "      <td>2.0</td>\n",
       "      <td>129.0</td>\n",
       "      <td>1.0</td>\n",
       "      <td>2.6</td>\n",
       "      <td>2.0</td>\n",
       "      <td>2.0</td>\n",
       "      <td>7.0</td>\n",
       "      <td>1</td>\n",
       "    </tr>\n",
       "    <tr>\n",
       "      <th>3</th>\n",
       "      <td>37.0</td>\n",
       "      <td>1.0</td>\n",
       "      <td>3.0</td>\n",
       "      <td>130.0</td>\n",
       "      <td>250.0</td>\n",
       "      <td>0.0</td>\n",
       "      <td>0.0</td>\n",
       "      <td>187.0</td>\n",
       "      <td>0.0</td>\n",
       "      <td>3.5</td>\n",
       "      <td>3.0</td>\n",
       "      <td>0.0</td>\n",
       "      <td>3.0</td>\n",
       "      <td>0</td>\n",
       "    </tr>\n",
       "    <tr>\n",
       "      <th>4</th>\n",
       "      <td>41.0</td>\n",
       "      <td>0.0</td>\n",
       "      <td>2.0</td>\n",
       "      <td>130.0</td>\n",
       "      <td>204.0</td>\n",
       "      <td>0.0</td>\n",
       "      <td>2.0</td>\n",
       "      <td>172.0</td>\n",
       "      <td>0.0</td>\n",
       "      <td>1.4</td>\n",
       "      <td>1.0</td>\n",
       "      <td>0.0</td>\n",
       "      <td>3.0</td>\n",
       "      <td>0</td>\n",
       "    </tr>\n",
       "  </tbody>\n",
       "</table>\n",
       "</div>"
      ],
      "text/plain": [
       "    age  sex   cp  trestbps   chol  fbs  restecg  thalach  exang  oldpeak  \\\n",
       "0  63.0  1.0  1.0     145.0  233.0  1.0      2.0    150.0    0.0      2.3   \n",
       "1  67.0  1.0  4.0     160.0  286.0  0.0      2.0    108.0    1.0      1.5   \n",
       "2  67.0  1.0  4.0     120.0  229.0  0.0      2.0    129.0    1.0      2.6   \n",
       "3  37.0  1.0  3.0     130.0  250.0  0.0      0.0    187.0    0.0      3.5   \n",
       "4  41.0  0.0  2.0     130.0  204.0  0.0      2.0    172.0    0.0      1.4   \n",
       "\n",
       "   slope   ca thal  num  \n",
       "0    3.0  0.0  6.0    0  \n",
       "1    2.0  3.0  3.0    2  \n",
       "2    2.0  2.0  7.0    1  \n",
       "3    3.0  0.0  3.0    0  \n",
       "4    1.0  0.0  3.0    0  "
      ]
     },
     "execution_count": 2,
     "metadata": {},
     "output_type": "execute_result"
    }
   ],
   "source": [
    "heart = pd.read_csv(\"processed.cleveland.data\", names=['age', 'sex', 'cp', 'trestbps', 'chol', 'fbs', 'restecg',\n",
    "       'thalach', 'exang', 'oldpeak', 'slope', 'ca', 'thal', 'num'])\n",
    "heart.head()"
   ]
  },
  {
   "cell_type": "code",
   "execution_count": 3,
   "id": "01daae82",
   "metadata": {
    "scrolled": false
   },
   "outputs": [
    {
     "name": "stdout",
     "output_type": "stream",
     "text": [
      "<class 'pandas.core.frame.DataFrame'>\n",
      "RangeIndex: 303 entries, 0 to 302\n",
      "Data columns (total 14 columns):\n",
      " #   Column    Non-Null Count  Dtype  \n",
      "---  ------    --------------  -----  \n",
      " 0   age       303 non-null    float64\n",
      " 1   sex       303 non-null    float64\n",
      " 2   cp        303 non-null    float64\n",
      " 3   trestbps  303 non-null    float64\n",
      " 4   chol      303 non-null    float64\n",
      " 5   fbs       303 non-null    float64\n",
      " 6   restecg   303 non-null    float64\n",
      " 7   thalach   303 non-null    float64\n",
      " 8   exang     303 non-null    float64\n",
      " 9   oldpeak   303 non-null    float64\n",
      " 10  slope     303 non-null    float64\n",
      " 11  ca        303 non-null    object \n",
      " 12  thal      303 non-null    object \n",
      " 13  num       303 non-null    int64  \n",
      "dtypes: float64(11), int64(1), object(2)\n",
      "memory usage: 33.3+ KB\n"
     ]
    }
   ],
   "source": [
    "heart.info()"
   ]
  },
  {
   "cell_type": "markdown",
   "id": "3430934c",
   "metadata": {},
   "source": [
    "There are two columns \"ca\" and \"thal\" that don't have a numerical data type. To go further we have to fix this issue first."
   ]
  },
  {
   "cell_type": "code",
   "execution_count": 4,
   "id": "80ca564c",
   "metadata": {},
   "outputs": [
    {
     "data": {
      "text/plain": [
       "0.0    176\n",
       "1.0     65\n",
       "2.0     38\n",
       "3.0     20\n",
       "?        4\n",
       "Name: ca, dtype: int64"
      ]
     },
     "execution_count": 4,
     "metadata": {},
     "output_type": "execute_result"
    }
   ],
   "source": [
    "heart[\"ca\"].value_counts()"
   ]
  },
  {
   "cell_type": "code",
   "execution_count": 5,
   "id": "d38f0186",
   "metadata": {},
   "outputs": [
    {
     "data": {
      "text/plain": [
       "3.0    166\n",
       "7.0    117\n",
       "6.0     18\n",
       "?        2\n",
       "Name: thal, dtype: int64"
      ]
     },
     "execution_count": 5,
     "metadata": {},
     "output_type": "execute_result"
    }
   ],
   "source": [
    "heart[\"thal\"].value_counts()"
   ]
  },
  {
   "cell_type": "markdown",
   "id": "0016d2fd",
   "metadata": {},
   "source": [
    "Both columns have a small amount of \"?\" values. We will just delete this rows an transform the columns to numeric."
   ]
  },
  {
   "cell_type": "code",
   "execution_count": 6,
   "id": "c5399621",
   "metadata": {},
   "outputs": [],
   "source": [
    "heart = heart[heart[\"ca\"] != \"?\"]\n",
    "heart[\"ca\"] = pd.to_numeric(heart[\"ca\"])\n",
    "\n",
    "heart = heart[heart[\"thal\"] != \"?\"]\n",
    "heart[\"thal\"] = pd.to_numeric(heart[\"thal\"])"
   ]
  },
  {
   "cell_type": "code",
   "execution_count": 7,
   "id": "dffdf5ed",
   "metadata": {},
   "outputs": [
    {
     "name": "stdout",
     "output_type": "stream",
     "text": [
      "<class 'pandas.core.frame.DataFrame'>\n",
      "Int64Index: 297 entries, 0 to 301\n",
      "Data columns (total 14 columns):\n",
      " #   Column    Non-Null Count  Dtype  \n",
      "---  ------    --------------  -----  \n",
      " 0   age       297 non-null    float64\n",
      " 1   sex       297 non-null    float64\n",
      " 2   cp        297 non-null    float64\n",
      " 3   trestbps  297 non-null    float64\n",
      " 4   chol      297 non-null    float64\n",
      " 5   fbs       297 non-null    float64\n",
      " 6   restecg   297 non-null    float64\n",
      " 7   thalach   297 non-null    float64\n",
      " 8   exang     297 non-null    float64\n",
      " 9   oldpeak   297 non-null    float64\n",
      " 10  slope     297 non-null    float64\n",
      " 11  ca        297 non-null    float64\n",
      " 12  thal      297 non-null    float64\n",
      " 13  num       297 non-null    int64  \n",
      "dtypes: float64(13), int64(1)\n",
      "memory usage: 34.8 KB\n"
     ]
    }
   ],
   "source": [
    "heart.info()"
   ]
  },
  {
   "cell_type": "markdown",
   "id": "ab39b6c1",
   "metadata": {},
   "source": [
    "Our dependend attribute \"num\" has a range from 0 to 4, where 0 stands for no heart disease and 1-4 indicates disease severity. We will simplify the later to only one value. So 1 will stand for a diagnosed heart disease."
   ]
  },
  {
   "cell_type": "code",
   "execution_count": 8,
   "id": "28808043",
   "metadata": {},
   "outputs": [
    {
     "name": "stderr",
     "output_type": "stream",
     "text": [
      "C:\\Users\\stefa\\AppData\\Local\\Temp\\ipykernel_14116\\3504305612.py:1: SettingWithCopyWarning: \n",
      "A value is trying to be set on a copy of a slice from a DataFrame\n",
      "\n",
      "See the caveats in the documentation: https://pandas.pydata.org/pandas-docs/stable/user_guide/indexing.html#returning-a-view-versus-a-copy\n",
      "  heart[\"num\"][heart[\"num\"] != 0] = 1\n"
     ]
    },
    {
     "data": {
      "text/plain": [
       "0    160\n",
       "1    137\n",
       "Name: num, dtype: int64"
      ]
     },
     "execution_count": 8,
     "metadata": {},
     "output_type": "execute_result"
    }
   ],
   "source": [
    "heart[\"num\"][heart[\"num\"] != 0] = 1\n",
    "heart[\"num\"].value_counts()"
   ]
  },
  {
   "cell_type": "markdown",
   "id": "377cf5de",
   "metadata": {},
   "source": [
    "Cases and non-cases are relatively evenly distributed, which is good to build a reliable model."
   ]
  },
  {
   "cell_type": "markdown",
   "id": "ab166593",
   "metadata": {},
   "source": [
    "### Choosing Predictors\n",
    "Now we have to choose the predictors for our model. One way is to look at the correlation between features and dependend variable."
   ]
  },
  {
   "cell_type": "code",
   "execution_count": 9,
   "id": "bf5865f9",
   "metadata": {},
   "outputs": [
    {
     "name": "stdout",
     "output_type": "stream",
     "text": [
      "thalach    -0.423817\n",
      "fbs         0.003167\n",
      "chol        0.080285\n",
      "trestbps    0.153490\n",
      "restecg     0.166343\n",
      "age         0.227075\n",
      "sex         0.278467\n",
      "slope       0.333049\n",
      "cp          0.408945\n",
      "exang       0.421355\n",
      "oldpeak     0.424052\n",
      "ca          0.463189\n",
      "thal        0.526640\n",
      "num         1.000000\n",
      "Name: num, dtype: float64\n"
     ]
    },
    {
     "data": {
      "text/plain": [
       "<AxesSubplot:>"
      ]
     },
     "execution_count": 9,
     "metadata": {},
     "output_type": "execute_result"
    },
    {
     "data": {
      "image/png": "[encoded data removed]",
      "text/plain": [
       "<Figure size 432x288 with 2 Axes>"
      ]
     },
     "metadata": {
      "needs_background": "light"
     },
     "output_type": "display_data"
    }
   ],
   "source": [
    "print(heart.corr()[\"num\"].sort_values())\n",
    "sns.heatmap(abs(heart.corr()), annot=False)"
   ]
  },
  {
   "cell_type": "markdown",
   "id": "e8efe3c9",
   "metadata": {},
   "source": [
    "The biggest correlation can be seen with \"thal\" (blood disorder called thalassemia) and \"ca\" (number of major vessels). Good thing we cleaned up these columns to be able to use them. Other promising candidates are \"cp\" (chest pain type), \"exang\" (exercise induced angina), \"oldpeak\" (ST depression). There is also a high negatic correlation with \"thalach\" (maximum heart rate achieved). There seems to be a great correlation between \"slope\" and \"oldpeak\", that both refer to results of  electrocardiography. Thus we shouldn't integrete both in the model to avoid redundancy."
   ]
  },
  {
   "cell_type": "markdown",
   "id": "921b6fa2",
   "metadata": {},
   "source": [
    "In addition, we can compare the mean values of the features for cases and non-cases to look for interesting relationships."
   ]
  },
  {
   "cell_type": "code",
   "execution_count": 10,
   "id": "d8773e95",
   "metadata": {},
   "outputs": [
    {
     "data": {
      "text/html": [
       "<div>\n",
       "<style scoped>\n",
       "    .dataframe tbody tr th:only-of-type {\n",
       "        vertical-align: middle;\n",
       "    }\n",
       "\n",
       "    .dataframe tbody tr th {\n",
       "        vertical-align: top;\n",
       "    }\n",
       "\n",
       "    .dataframe thead th {\n",
       "        text-align: right;\n",
       "    }\n",
       "</style>\n",
       "<table border=\"1\" class=\"dataframe\">\n",
       "  <thead>\n",
       "    <tr style=\"text-align: right;\">\n",
       "      <th></th>\n",
       "      <th>age</th>\n",
       "      <th>sex</th>\n",
       "      <th>cp</th>\n",
       "      <th>trestbps</th>\n",
       "      <th>chol</th>\n",
       "      <th>fbs</th>\n",
       "      <th>restecg</th>\n",
       "      <th>thalach</th>\n",
       "      <th>exang</th>\n",
       "      <th>oldpeak</th>\n",
       "      <th>slope</th>\n",
       "      <th>ca</th>\n",
       "      <th>thal</th>\n",
       "    </tr>\n",
       "    <tr>\n",
       "      <th>num</th>\n",
       "      <th></th>\n",
       "      <th></th>\n",
       "      <th></th>\n",
       "      <th></th>\n",
       "      <th></th>\n",
       "      <th></th>\n",
       "      <th></th>\n",
       "      <th></th>\n",
       "      <th></th>\n",
       "      <th></th>\n",
       "      <th></th>\n",
       "      <th></th>\n",
       "      <th></th>\n",
       "    </tr>\n",
       "  </thead>\n",
       "  <tbody>\n",
       "    <tr>\n",
       "      <th>0</th>\n",
       "      <td>52.643750</td>\n",
       "      <td>0.556250</td>\n",
       "      <td>2.793750</td>\n",
       "      <td>129.175000</td>\n",
       "      <td>243.493750</td>\n",
       "      <td>0.143750</td>\n",
       "      <td>0.843750</td>\n",
       "      <td>158.581250</td>\n",
       "      <td>0.143750</td>\n",
       "      <td>0.598750</td>\n",
       "      <td>1.412500</td>\n",
       "      <td>0.275000</td>\n",
       "      <td>3.787500</td>\n",
       "    </tr>\n",
       "    <tr>\n",
       "      <th>1</th>\n",
       "      <td>56.759124</td>\n",
       "      <td>0.817518</td>\n",
       "      <td>3.583942</td>\n",
       "      <td>134.635036</td>\n",
       "      <td>251.854015</td>\n",
       "      <td>0.145985</td>\n",
       "      <td>1.175182</td>\n",
       "      <td>139.109489</td>\n",
       "      <td>0.540146</td>\n",
       "      <td>1.589051</td>\n",
       "      <td>1.824818</td>\n",
       "      <td>1.145985</td>\n",
       "      <td>5.832117</td>\n",
       "    </tr>\n",
       "  </tbody>\n",
       "</table>\n",
       "</div>"
      ],
      "text/plain": [
       "           age       sex        cp    trestbps        chol       fbs  \\\n",
       "num                                                                    \n",
       "0    52.643750  0.556250  2.793750  129.175000  243.493750  0.143750   \n",
       "1    56.759124  0.817518  3.583942  134.635036  251.854015  0.145985   \n",
       "\n",
       "      restecg     thalach     exang   oldpeak     slope        ca      thal  \n",
       "num                                                                          \n",
       "0    0.843750  158.581250  0.143750  0.598750  1.412500  0.275000  3.787500  \n",
       "1    1.175182  139.109489  0.540146  1.589051  1.824818  1.145985  5.832117  "
      ]
     },
     "execution_count": 10,
     "metadata": {},
     "output_type": "execute_result"
    }
   ],
   "source": [
    "heart.groupby(\"num\").agg(\n",
    "    {\n",
    "        \"age\": \"mean\",\n",
    "        \"sex\": \"mean\",\n",
    "        \"cp\": \"mean\",\n",
    "        \"trestbps\": \"mean\",\n",
    "        \"chol\": \"mean\",\n",
    "        \"fbs\": \"mean\",\n",
    "        \"restecg\": \"mean\",\n",
    "        \"thalach\": \"mean\",\n",
    "        \"exang\": \"mean\",\n",
    "        \"oldpeak\": \"mean\",\n",
    "        \"slope\": \"mean\",\n",
    "        \"ca\": \"mean\",\n",
    "        \"thal\": \"mean\"\n",
    "    }\n",
    ")"
   ]
  },
  {
   "cell_type": "markdown",
   "id": "9c073307",
   "metadata": {},
   "source": [
    "The findings from the correlation table agree with the mean values. In order to understand the connections, we take a closer look at the individual features."
   ]
  },
  {
   "cell_type": "code",
   "execution_count": 11,
   "id": "8e79e315",
   "metadata": {
    "scrolled": false
   },
   "outputs": [
    {
     "data": {
      "image/png": "[encoded data removed]",
      "text/plain": [
       "<Figure size 720x720 with 6 Axes>"
      ]
     },
     "metadata": {
      "needs_background": "light"
     },
     "output_type": "display_data"
    }
   ],
   "source": [
    "fig, axs = plt.subplots(3, 2, figsize=(10, 10))\n",
    "sns.histplot(ax=axs[0, 0], data=heart, x=\"thal\", hue=\"num\", multiple=\"stack\")\n",
    "axs[0, 0].set_title(\"thal: blood disorder thalassemia\")\n",
    "sns.histplot(ax=axs[0, 1],data=heart, x=\"ca\", hue=\"num\", multiple=\"stack\")\n",
    "axs[0, 1].set_title(\"ca: number of major vessels\")\n",
    "sns.histplot(ax=axs[1, 0],data=heart, x=\"cp\", hue=\"num\", multiple=\"stack\")\n",
    "axs[1, 0].set_title(\"cp: chest pain type\")\n",
    "sns.histplot(ax=axs[1, 1],data=heart, x=\"exang\", hue=\"num\", multiple=\"stack\")\n",
    "axs[1, 1].set_title(\"exang: exercise induced angina\")\n",
    "sns.histplot(ax=axs[2, 0],data=heart, x=\"oldpeak\", hue=\"num\", multiple=\"stack\")\n",
    "axs[2, 0].set_title(\"oldpeak: ST depression\")\n",
    "sns.histplot(ax=axs[2, 1],data=heart, x=\"thalach\", hue=\"num\", multiple=\"stack\")\n",
    "axs[2, 1].set_title(\"thalach: maximum heart rate achieved\")\n",
    "\n",
    "fig.tight_layout()"
   ]
  },
  {
   "cell_type": "markdown",
   "id": "80a2a22b",
   "metadata": {},
   "source": [
    "The chance of heart disease increases with:\n",
    "- the presence of blood disorder thalassemia (thal)\n",
    "- the higher the number of major vessels (ca)\n",
    "- chest pain type 4: asymptomatic (cp)\n",
    "- exercise induced angina (exang)\n",
    "- ST depression of an electrocardiogram (oldpeak)\n",
    "- the lower the maximum heart rate achieved in exercise (thalach)"
   ]
  },
  {
   "cell_type": "markdown",
   "id": "a2355d27",
   "metadata": {},
   "source": [
    "## Logistic regression model\n",
    "\n",
    "First we have to split the data into test and training set. To make sure we have both cases in both data sets we will also check  their distribution."
   ]
  },
  {
   "cell_type": "code",
   "execution_count": 12,
   "id": "c5132581",
   "metadata": {},
   "outputs": [],
   "source": [
    "X = heart[[\"thal\",\"ca\",\"cp\",\"thalach\",\"exang\",\"oldpeak\"]]\n",
    "y = heart[\"num\"]"
   ]
  },
  {
   "cell_type": "code",
   "execution_count": 13,
   "id": "d276f797",
   "metadata": {},
   "outputs": [],
   "source": [
    "X_train, X_test, y_train, y_test = train_test_split(X,y,test_size=0.3,random_state=1)"
   ]
  },
  {
   "cell_type": "code",
   "execution_count": 14,
   "id": "799c0b29",
   "metadata": {},
   "outputs": [
    {
     "data": {
      "text/plain": [
       "0    0.52657\n",
       "1    0.47343\n",
       "Name: num, dtype: float64"
      ]
     },
     "execution_count": 14,
     "metadata": {},
     "output_type": "execute_result"
    }
   ],
   "source": [
    "y_train.value_counts(normalize=True)"
   ]
  },
  {
   "cell_type": "code",
   "execution_count": 15,
   "id": "dcaddbd1",
   "metadata": {},
   "outputs": [
    {
     "data": {
      "text/plain": [
       "0    0.566667\n",
       "1    0.433333\n",
       "Name: num, dtype: float64"
      ]
     },
     "execution_count": 15,
     "metadata": {},
     "output_type": "execute_result"
    }
   ],
   "source": [
    "y_test.value_counts(normalize=True)"
   ]
  },
  {
   "cell_type": "markdown",
   "id": "99b22cf5",
   "metadata": {},
   "source": [
    "There are nearly the same ratio of cases and non-cases in both data sets. So we can go on building the model and check its correctness by calculating accuracy, sensitivity and specificity."
   ]
  },
  {
   "cell_type": "code",
   "execution_count": 16,
   "id": "48e46ea7",
   "metadata": {
    "scrolled": true
   },
   "outputs": [
    {
     "name": "stderr",
     "output_type": "stream",
     "text": [
      "C:\\Users\\stefa\\anaconda3\\lib\\site-packages\\sklearn\\linear_model\\_logistic.py:814: ConvergenceWarning: lbfgs failed to converge (status=1):\n",
      "STOP: TOTAL NO. of ITERATIONS REACHED LIMIT.\n",
      "\n",
      "Increase the number of iterations (max_iter) or scale the data as shown in:\n",
      "    https://scikit-learn.org/stable/modules/preprocessing.html\n",
      "Please also refer to the documentation for alternative solver options:\n",
      "    https://scikit-learn.org/stable/modules/linear_model.html#logistic-regression\n",
      "  n_iter_i = _check_optimize_result(\n"
     ]
    }
   ],
   "source": [
    "model = LogisticRegression()\n",
    "model.fit(X_train,y_train)\n",
    "accuracy = model.score(X_train,y_train)"
   ]
  },
  {
   "cell_type": "code",
   "execution_count": 27,
   "id": "a9694f97",
   "metadata": {},
   "outputs": [
    {
     "name": "stdout",
     "output_type": "stream",
     "text": [
      "train accuracy: 0.84\n",
      "train sensitivity: 0.87\n",
      "train specificity: 0.82\n"
     ]
    }
   ],
   "source": [
    "train_prediction = model.predict(X_train)\n",
    "\n",
    "tp = sum((train_prediction == 1) & (y_train == 1))\n",
    "fp = sum((train_prediction == 1) & (y_train == 0))\n",
    "\n",
    "sensitivity = tp / (tp + fp)\n",
    "\n",
    "tn = sum((train_prediction == 0) & (y_train == 0))\n",
    "fn = sum((train_prediction == 0) & (y_train == 1))\n",
    "\n",
    "specificity = tn / (tn + fn)\n",
    "\n",
    "print(\"train accuracy:\",round(accuracy,2))\n",
    "print(\"train sensitivity:\",round(sensitivity,2))\n",
    "print(\"train specificity:\",round(specificity,2))"
   ]
  },
  {
   "cell_type": "markdown",
   "id": "385e52a7",
   "metadata": {},
   "source": [
    "84% of all observations, 87% of the predictions of absence of heart disease and 82% of the predictions of presence of heart disease were correct."
   ]
  },
  {
   "cell_type": "code",
   "execution_count": 18,
   "id": "00279191",
   "metadata": {},
   "outputs": [
    {
     "data": {
      "text/plain": [
       "<AxesSubplot:>"
      ]
     },
     "execution_count": 18,
     "metadata": {},
     "output_type": "execute_result"
    },
    {
     "data": {
      "image/png": "[encoded data removed]",
      "text/plain": [
       "<Figure size 432x288 with 2 Axes>"
      ]
     },
     "metadata": {
      "needs_background": "light"
     },
     "output_type": "display_data"
    }
   ],
   "source": [
    "sns.heatmap(confusion_matrix(y_train,train_prediction),annot=True)"
   ]
  },
  {
   "cell_type": "markdown",
   "id": "74f349f0",
   "metadata": {},
   "source": [
    "We have 21 false positiv and 12 false negativ predictions. Our model seems to be better in predicting non-cases."
   ]
  },
  {
   "cell_type": "markdown",
   "id": "9efa1c3c",
   "metadata": {},
   "source": [
    "Since the model produces acceptable results let's interpret its regression parameters. An intuitive evaluation becomes possible if one exponentiates the coefficients. This gives us the odds which can tell us if it is more or less likely to get a possitive case when increasing the feature by one unit. Odds higher than 1 imply an increasing probability, lower than 1 the other way round."
   ]
  },
  {
   "cell_type": "code",
   "execution_count": 36,
   "id": "2c5e764f",
   "metadata": {},
   "outputs": [
    {
     "name": "stdout",
     "output_type": "stream",
     "text": [
      "Index(['thal', 'ca', 'cp', 'thalach', 'exang', 'oldpeak'], dtype='object')\n",
      "[[ 0.44179961  1.00424452  0.41154966 -0.01852853  0.72896019  0.65502441]]\n",
      "[[1.55550401 2.72984415 1.50915465 0.98164207 2.07292405 1.92518951]]\n"
     ]
    }
   ],
   "source": [
    "coef = model.coef_\n",
    "odds_coef = np.exp(coef)\n",
    "print(X.columns)\n",
    "print(coef)\n",
    "print(odds_coef)"
   ]
  },
  {
   "cell_type": "markdown",
   "id": "3425a022",
   "metadata": {},
   "source": [
    "Increasing the coefficients holding the other predictors constant increases the chance of a positive prediction by that percentage:\n",
    "- thal: 56%\n",
    "- ca: 173%\n",
    "- cp: 51%\n",
    "- thalach: -2%\n",
    "- exang: 107%\n",
    "- oldpeak: 93%\n",
    "\n",
    "The odds show the expected direction. Above all \"ca\" (number of major vessels) has a big impact on the prediction. The odds of \"thalach\" (maximum heart rate achieved in exercise) seems low at first glance, but is has a range from 80 to 200 bpm. The other features are in the single-digit range."
   ]
  },
  {
   "cell_type": "markdown",
   "id": "023c5927",
   "metadata": {},
   "source": [
    "### Predictive ability of the model\n",
    "\n",
    "Finally, we can assess the predictive ability of our logistic regression model. We will again calculate accuracy, sensitivity and specificity."
   ]
  },
  {
   "cell_type": "code",
   "execution_count": 28,
   "id": "6e840d98",
   "metadata": {},
   "outputs": [
    {
     "name": "stdout",
     "output_type": "stream",
     "text": [
      "test accuracy: 0.84\n",
      "test sensitivity: 0.82\n",
      "test specificity: 0.86\n"
     ]
    }
   ],
   "source": [
    "accuracy = model.score(X_test,y_test)\n",
    "\n",
    "test_predicion = model.predict(X_test)\n",
    "\n",
    "tp = sum((test_predicion == 1) & (y_test == 1))\n",
    "fp = sum((test_predicion == 1) & (y_test == 0))\n",
    "\n",
    "sensitivity = tp / (tp + fp)\n",
    "\n",
    "tn = sum((test_predicion == 0) & (y_test == 0))\n",
    "fn = sum((test_predicion == 0) & (y_test == 1))\n",
    "\n",
    "specificity = tn / (tn + fn)\n",
    "\n",
    "print(\"test accuracy:\",round(accuracy,2))\n",
    "print(\"test sensitivity:\",round(sensitivity,2))\n",
    "print(\"test specificity:\",round(specificity,2))"
   ]
  },
  {
   "cell_type": "markdown",
   "id": "14740f96",
   "metadata": {},
   "source": [
    "Compared to the training set, the accuracy didn't changed at all, but this time the model was better in predicting non-cases and worse in predicting cases. However, for health-based applications a higher sensitivity would be better. We might be more interested in being better at identifying cases than non-cases."
   ]
  }
 ],
 "metadata": {
  "kernelspec": {
   "display_name": "Python 3 (ipykernel)",
   "language": "python",
   "name": "python3"
  },
  "language_info": {
   "codemirror_mode": {
    "name": "ipython",
    "version": 3
   },
   "file_extension": ".py",
   "mimetype": "text/x-python",
   "name": "python",
   "nbconvert_exporter": "python",
   "pygments_lexer": "ipython3",
   "version": "3.9.12"
  }
 },
 "nbformat": 4,
 "nbformat_minor": 5
}
